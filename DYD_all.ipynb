{
 "cells": [
  {
   "cell_type": "markdown",
   "metadata": {},
   "source": [
    "# DYD Thermostat Data \n",
    "\n",
    "## Preprocess\n",
    "\n",
    "1. Generated CSV file from queries in BigQueary\n",
    "\n",
    "2. Aggregated the data in BigQuery by vintage of home (every 5 years)\n",
    "\n",
    "3. Merged the vintages back in by summer soltice date\n"
   ]
  },
  {
   "cell_type": "code",
   "execution_count": 1,
   "metadata": {},
   "outputs": [],
   "source": [
    "# Dependencies\n",
    "import pandas as pd\n",
    "import os\n",
    "import numpy as np\n",
    "from pathlib import Path\n",
    "from datetime import datetime"
   ]
  },
  {
   "cell_type": "markdown",
   "metadata": {},
   "source": [
    "---\n",
    "\n",
    "## Combine Summer CSV Files"
   ]
  },
  {
   "cell_type": "code",
   "execution_count": 2,
   "metadata": {},
   "outputs": [],
   "source": [
    "# Create variable for files in directory\n",
    "files = [f for f in os.listdir(\"data/summer/\") if f.endswith(\".csv\")]\n",
    "\n",
    "# files"
   ]
  },
  {
   "cell_type": "code",
   "execution_count": 3,
   "metadata": {},
   "outputs": [
    {
     "data": {
      "text/html": [
       "<div>\n",
       "<style scoped>\n",
       "    .dataframe tbody tr th:only-of-type {\n",
       "        vertical-align: middle;\n",
       "    }\n",
       "\n",
       "    .dataframe tbody tr th {\n",
       "        vertical-align: top;\n",
       "    }\n",
       "\n",
       "    .dataframe thead th {\n",
       "        text-align: right;\n",
       "    }\n",
       "</style>\n",
       "<table border=\"1\" class=\"dataframe\">\n",
       "  <thead>\n",
       "    <tr style=\"text-align: right;\">\n",
       "      <th></th>\n",
       "      <th>AvgTempCtrl</th>\n",
       "      <th>AvgCool</th>\n",
       "      <th>AvgHeat</th>\n",
       "      <th>Identifier</th>\n",
       "      <th>Country</th>\n",
       "      <th>ProvinceState</th>\n",
       "      <th>Age_of_Home__years_</th>\n",
       "    </tr>\n",
       "  </thead>\n",
       "  <tbody>\n",
       "    <tr>\n",
       "      <th>0</th>\n",
       "      <td>734.816176</td>\n",
       "      <td>732.500000</td>\n",
       "      <td>732.500000</td>\n",
       "      <td>a79c42312360f12bf571e48a6dff8c0795a086c1</td>\n",
       "      <td>US</td>\n",
       "      <td>AB</td>\n",
       "      <td>0</td>\n",
       "    </tr>\n",
       "    <tr>\n",
       "      <th>1</th>\n",
       "      <td>746.404412</td>\n",
       "      <td>746.056373</td>\n",
       "      <td>746.056373</td>\n",
       "      <td>d761e9f22aca4be5390b4c28dc5853556549f07b</td>\n",
       "      <td>US</td>\n",
       "      <td>AB</td>\n",
       "      <td>0</td>\n",
       "    </tr>\n",
       "    <tr>\n",
       "      <th>2</th>\n",
       "      <td>692.024000</td>\n",
       "      <td>650.000000</td>\n",
       "      <td>638.480000</td>\n",
       "      <td>fda1f67e8423ed49933c45617ee96aef3bae04ba</td>\n",
       "      <td>US</td>\n",
       "      <td>AK</td>\n",
       "      <td>0</td>\n",
       "    </tr>\n",
       "    <tr>\n",
       "      <th>3</th>\n",
       "      <td>740.551282</td>\n",
       "      <td>650.000000</td>\n",
       "      <td>615.000000</td>\n",
       "      <td>c810efa572eb24b685d4ea14eb98d7f79cac0bd3</td>\n",
       "      <td>US</td>\n",
       "      <td>AK</td>\n",
       "      <td>0</td>\n",
       "    </tr>\n",
       "    <tr>\n",
       "      <th>4</th>\n",
       "      <td>771.901961</td>\n",
       "      <td>745.000000</td>\n",
       "      <td>695.000000</td>\n",
       "      <td>455516c8c7ffb3658b2b938dffa0fda8b89bce70</td>\n",
       "      <td>US</td>\n",
       "      <td>AL</td>\n",
       "      <td>0</td>\n",
       "    </tr>\n",
       "    <tr>\n",
       "      <th>...</th>\n",
       "      <td>...</td>\n",
       "      <td>...</td>\n",
       "      <td>...</td>\n",
       "      <td>...</td>\n",
       "      <td>...</td>\n",
       "      <td>...</td>\n",
       "      <td>...</td>\n",
       "    </tr>\n",
       "    <tr>\n",
       "      <th>8657</th>\n",
       "      <td>737.994624</td>\n",
       "      <td>650.000000</td>\n",
       "      <td>620.000000</td>\n",
       "      <td>31fff6bad552eba4c1b4550a33e64174aa430ff4</td>\n",
       "      <td>US</td>\n",
       "      <td>WI</td>\n",
       "      <td>120</td>\n",
       "    </tr>\n",
       "    <tr>\n",
       "      <th>8658</th>\n",
       "      <td>743.500000</td>\n",
       "      <td>730.000000</td>\n",
       "      <td>730.000000</td>\n",
       "      <td>548931e2ed735c43f84ea49813309863875c5b4a</td>\n",
       "      <td>US</td>\n",
       "      <td>WI</td>\n",
       "      <td>120</td>\n",
       "    </tr>\n",
       "    <tr>\n",
       "      <th>8659</th>\n",
       "      <td>652.224490</td>\n",
       "      <td>650.000000</td>\n",
       "      <td>600.000000</td>\n",
       "      <td>4949e2207e8f59c14d94cb0938fa6195ab0c455a</td>\n",
       "      <td>US</td>\n",
       "      <td>WI</td>\n",
       "      <td>120</td>\n",
       "    </tr>\n",
       "    <tr>\n",
       "      <th>8660</th>\n",
       "      <td>745.087719</td>\n",
       "      <td>750.000000</td>\n",
       "      <td>750.000000</td>\n",
       "      <td>eac1c327b12edd2fb7a03908ec5011033cdae0b6</td>\n",
       "      <td>US</td>\n",
       "      <td>WI</td>\n",
       "      <td>120</td>\n",
       "    </tr>\n",
       "    <tr>\n",
       "      <th>8661</th>\n",
       "      <td>732.950000</td>\n",
       "      <td>720.650000</td>\n",
       "      <td>720.000000</td>\n",
       "      <td>6d578aaea9293ac052c317e1dedd3f6f62dc49a4</td>\n",
       "      <td>US</td>\n",
       "      <td>WI</td>\n",
       "      <td>120</td>\n",
       "    </tr>\n",
       "  </tbody>\n",
       "</table>\n",
       "<p>57621 rows × 7 columns</p>\n",
       "</div>"
      ],
      "text/plain": [
       "      AvgTempCtrl     AvgCool     AvgHeat  \\\n",
       "0      734.816176  732.500000  732.500000   \n",
       "1      746.404412  746.056373  746.056373   \n",
       "2      692.024000  650.000000  638.480000   \n",
       "3      740.551282  650.000000  615.000000   \n",
       "4      771.901961  745.000000  695.000000   \n",
       "...           ...         ...         ...   \n",
       "8657   737.994624  650.000000  620.000000   \n",
       "8658   743.500000  730.000000  730.000000   \n",
       "8659   652.224490  650.000000  600.000000   \n",
       "8660   745.087719  750.000000  750.000000   \n",
       "8661   732.950000  720.650000  720.000000   \n",
       "\n",
       "                                    Identifier Country ProvinceState  \\\n",
       "0     a79c42312360f12bf571e48a6dff8c0795a086c1      US            AB   \n",
       "1     d761e9f22aca4be5390b4c28dc5853556549f07b      US            AB   \n",
       "2     fda1f67e8423ed49933c45617ee96aef3bae04ba      US            AK   \n",
       "3     c810efa572eb24b685d4ea14eb98d7f79cac0bd3      US            AK   \n",
       "4     455516c8c7ffb3658b2b938dffa0fda8b89bce70      US            AL   \n",
       "...                                        ...     ...           ...   \n",
       "8657  31fff6bad552eba4c1b4550a33e64174aa430ff4      US            WI   \n",
       "8658  548931e2ed735c43f84ea49813309863875c5b4a      US            WI   \n",
       "8659  4949e2207e8f59c14d94cb0938fa6195ab0c455a      US            WI   \n",
       "8660  eac1c327b12edd2fb7a03908ec5011033cdae0b6      US            WI   \n",
       "8661  6d578aaea9293ac052c317e1dedd3f6f62dc49a4      US            WI   \n",
       "\n",
       "      Age_of_Home__years_  \n",
       "0                       0  \n",
       "1                       0  \n",
       "2                       0  \n",
       "3                       0  \n",
       "4                       0  \n",
       "...                   ...  \n",
       "8657                  120  \n",
       "8658                  120  \n",
       "8659                  120  \n",
       "8660                  120  \n",
       "8661                  120  \n",
       "\n",
       "[57621 rows x 7 columns]"
      ]
     },
     "execution_count": 3,
     "metadata": {},
     "output_type": "execute_result"
    }
   ],
   "source": [
    "# https://stackoverflow.com/questions/63886787/how-to-create-a-dataframe-from-multiple-csv-files\n",
    "# Initialize and empty dataframe\n",
    "all_summer = pd.DataFrame()\n",
    "\n",
    "# Iterate through files and contents, then concatenate the data into the dataframe\n",
    "for file in files:\n",
    "    df = pd.read_csv(\"data/summer/\" + file)\n",
    "    all_summer = pd.concat([all_summer, df])\n",
    "    \n",
    "all_summer"
   ]
  },
  {
   "cell_type": "code",
   "execution_count": 4,
   "metadata": {},
   "outputs": [
    {
     "data": {
      "text/plain": [
       "array(['AB', 'AK', 'AL', 'AR', 'AZ', 'CA', 'CO', 'CT', 'DC', 'DE', 'FL',\n",
       "       'GA', 'HI', 'IA', 'ID', 'IL', 'IN', 'KS', 'KY', 'LA', 'MA', 'MD',\n",
       "       'ME', 'MI', 'MN', 'MO', 'MS', 'MT', 'NC', 'ND', 'NE', 'NH', 'NJ',\n",
       "       'NM', 'NV', 'NY', 'OH', 'OK', 'OR', 'PA', 'PR', 'QC', 'RI', 'SC',\n",
       "       'SD', 'TN', 'TX', 'UT', 'VA', 'VT', 'WA', 'WI', 'WV', 'WY', 'VI',\n",
       "       'ON', 'NB', 'YT', nan], dtype=object)"
      ]
     },
     "execution_count": 4,
     "metadata": {},
     "output_type": "execute_result"
    }
   ],
   "source": [
    "# See all the unique names for states\n",
    "\n",
    "all_summer.ProvinceState.unique()"
   ]
  },
  {
   "cell_type": "code",
   "execution_count": 5,
   "metadata": {},
   "outputs": [],
   "source": [
    "# Remove weird states\n",
    "\n",
    "all_summer = all_summer[all_summer[\"ProvinceState\"] != \"AB\"]\n",
    "all_summer = all_summer[all_summer[\"ProvinceState\"] != \"VI\"]\n",
    "all_summer = all_summer[all_summer[\"ProvinceState\"] != \"ON\"]\n",
    "all_summer = all_summer[all_summer[\"ProvinceState\"] != \"NB\"]\n",
    "all_summer = all_summer[all_summer[\"ProvinceState\"] != \"YT\"]\n",
    "all_summer = all_summer[all_summer[\"ProvinceState\"] != \"QC\"]"
   ]
  },
  {
   "cell_type": "code",
   "execution_count": 6,
   "metadata": {},
   "outputs": [
    {
     "data": {
      "text/plain": [
       "array(['AK', 'AL', 'AR', 'AZ', 'CA', 'CO', 'CT', 'DC', 'DE', 'FL', 'GA',\n",
       "       'HI', 'IA', 'ID', 'IL', 'IN', 'KS', 'KY', 'LA', 'MA', 'MD', 'ME',\n",
       "       'MI', 'MN', 'MO', 'MS', 'MT', 'NC', 'ND', 'NE', 'NH', 'NJ', 'NM',\n",
       "       'NV', 'NY', 'OH', 'OK', 'OR', 'PA', 'PR', 'RI', 'SC', 'SD', 'TN',\n",
       "       'TX', 'UT', 'VA', 'VT', 'WA', 'WI', 'WV', 'WY', nan], dtype=object)"
      ]
     },
     "execution_count": 6,
     "metadata": {},
     "output_type": "execute_result"
    }
   ],
   "source": [
    "# See all the unique names for states\n",
    "\n",
    "all_summer.ProvinceState.unique()"
   ]
  },
  {
   "cell_type": "code",
   "execution_count": 7,
   "metadata": {},
   "outputs": [],
   "source": [
    "# Drop NANs\n",
    "\n",
    "all_summer = all_summer.dropna()"
   ]
  },
  {
   "cell_type": "code",
   "execution_count": 8,
   "metadata": {},
   "outputs": [
    {
     "data": {
      "text/plain": [
       "array(['AK', 'AL', 'AR', 'AZ', 'CA', 'CO', 'CT', 'DC', 'DE', 'FL', 'GA',\n",
       "       'HI', 'IA', 'ID', 'IL', 'IN', 'KS', 'KY', 'LA', 'MA', 'MD', 'ME',\n",
       "       'MI', 'MN', 'MO', 'MS', 'MT', 'NC', 'ND', 'NE', 'NH', 'NJ', 'NM',\n",
       "       'NV', 'NY', 'OH', 'OK', 'OR', 'PA', 'PR', 'RI', 'SC', 'SD', 'TN',\n",
       "       'TX', 'UT', 'VA', 'VT', 'WA', 'WI', 'WV', 'WY'], dtype=object)"
      ]
     },
     "execution_count": 8,
     "metadata": {},
     "output_type": "execute_result"
    }
   ],
   "source": [
    "# See all the unique names for states\n",
    "\n",
    "all_summer.ProvinceState.unique()"
   ]
  },
  {
   "cell_type": "code",
   "execution_count": 9,
   "metadata": {},
   "outputs": [],
   "source": [
    "# Export  file to csv\n",
    "\n",
    "all_summer.to_csv(\"Scraper_Output/all_summer.csv\", header=True, index=False)"
   ]
  },
  {
   "cell_type": "markdown",
   "metadata": {},
   "source": [
    "---\n",
    "\n",
    "## Combine Winter CSV Files"
   ]
  },
  {
   "cell_type": "code",
   "execution_count": 10,
   "metadata": {},
   "outputs": [],
   "source": [
    "# Create variable for files in directory\n",
    "files = [f for f in os.listdir(\"data/winter/\") if f.endswith(\".csv\")]\n",
    "\n",
    "# files"
   ]
  },
  {
   "cell_type": "code",
   "execution_count": 11,
   "metadata": {},
   "outputs": [
    {
     "data": {
      "text/html": [
       "<div>\n",
       "<style scoped>\n",
       "    .dataframe tbody tr th:only-of-type {\n",
       "        vertical-align: middle;\n",
       "    }\n",
       "\n",
       "    .dataframe tbody tr th {\n",
       "        vertical-align: top;\n",
       "    }\n",
       "\n",
       "    .dataframe thead th {\n",
       "        text-align: right;\n",
       "    }\n",
       "</style>\n",
       "<table border=\"1\" class=\"dataframe\">\n",
       "  <thead>\n",
       "    <tr style=\"text-align: right;\">\n",
       "      <th></th>\n",
       "      <th>AvgTempCtrl</th>\n",
       "      <th>AvgCool</th>\n",
       "      <th>AvgHeat</th>\n",
       "      <th>Identifier</th>\n",
       "      <th>Country</th>\n",
       "      <th>ProvinceState</th>\n",
       "      <th>Age_of_Home__years_</th>\n",
       "    </tr>\n",
       "  </thead>\n",
       "  <tbody>\n",
       "    <tr>\n",
       "      <th>0</th>\n",
       "      <td>712.192402</td>\n",
       "      <td>711.779412</td>\n",
       "      <td>701.779412</td>\n",
       "      <td>a79c42312360f12bf571e48a6dff8c0795a086c1</td>\n",
       "      <td>US</td>\n",
       "      <td>AB</td>\n",
       "      <td>0</td>\n",
       "    </tr>\n",
       "    <tr>\n",
       "      <th>1</th>\n",
       "      <td>740.671569</td>\n",
       "      <td>742.738971</td>\n",
       "      <td>742.738971</td>\n",
       "      <td>d761e9f22aca4be5390b4c28dc5853556549f07b</td>\n",
       "      <td>US</td>\n",
       "      <td>AB</td>\n",
       "      <td>0</td>\n",
       "    </tr>\n",
       "    <tr>\n",
       "      <th>2</th>\n",
       "      <td>687.865385</td>\n",
       "      <td>691.211538</td>\n",
       "      <td>690.461538</td>\n",
       "      <td>0404ace1bcdf88d917bd860a04cd6c66fb51679f</td>\n",
       "      <td>US</td>\n",
       "      <td>AK</td>\n",
       "      <td>0</td>\n",
       "    </tr>\n",
       "    <tr>\n",
       "      <th>3</th>\n",
       "      <td>675.124138</td>\n",
       "      <td>677.758621</td>\n",
       "      <td>677.613793</td>\n",
       "      <td>fda1f67e8423ed49933c45617ee96aef3bae04ba</td>\n",
       "      <td>US</td>\n",
       "      <td>AK</td>\n",
       "      <td>0</td>\n",
       "    </tr>\n",
       "    <tr>\n",
       "      <th>4</th>\n",
       "      <td>684.433333</td>\n",
       "      <td>745.166667</td>\n",
       "      <td>695.166667</td>\n",
       "      <td>b22837a38739d740c6920c5c300e1bed17fcf706</td>\n",
       "      <td>US</td>\n",
       "      <td>AL</td>\n",
       "      <td>0</td>\n",
       "    </tr>\n",
       "    <tr>\n",
       "      <th>...</th>\n",
       "      <td>...</td>\n",
       "      <td>...</td>\n",
       "      <td>...</td>\n",
       "      <td>...</td>\n",
       "      <td>...</td>\n",
       "      <td>...</td>\n",
       "      <td>...</td>\n",
       "    </tr>\n",
       "    <tr>\n",
       "      <th>9586</th>\n",
       "      <td>664.720430</td>\n",
       "      <td>665.204301</td>\n",
       "      <td>658.763441</td>\n",
       "      <td>4949e2207e8f59c14d94cb0938fa6195ab0c455a</td>\n",
       "      <td>US</td>\n",
       "      <td>WI</td>\n",
       "      <td>120</td>\n",
       "    </tr>\n",
       "    <tr>\n",
       "      <th>9587</th>\n",
       "      <td>673.000000</td>\n",
       "      <td>740.000000</td>\n",
       "      <td>710.000000</td>\n",
       "      <td>6d578aaea9293ac052c317e1dedd3f6f62dc49a4</td>\n",
       "      <td>US</td>\n",
       "      <td>WI</td>\n",
       "      <td>120</td>\n",
       "    </tr>\n",
       "    <tr>\n",
       "      <th>9588</th>\n",
       "      <td>680.867384</td>\n",
       "      <td>683.333333</td>\n",
       "      <td>683.333333</td>\n",
       "      <td>31fff6bad552eba4c1b4550a33e64174aa430ff4</td>\n",
       "      <td>US</td>\n",
       "      <td>WI</td>\n",
       "      <td>120</td>\n",
       "    </tr>\n",
       "    <tr>\n",
       "      <th>9589</th>\n",
       "      <td>693.846154</td>\n",
       "      <td>707.538462</td>\n",
       "      <td>703.076923</td>\n",
       "      <td>75910578db7bd09526fdb3c6b2faf03d04402f83</td>\n",
       "      <td>US</td>\n",
       "      <td>WI</td>\n",
       "      <td>120</td>\n",
       "    </tr>\n",
       "    <tr>\n",
       "      <th>9590</th>\n",
       "      <td>692.266667</td>\n",
       "      <td>750.000000</td>\n",
       "      <td>690.000000</td>\n",
       "      <td>0676b436dde8bd5cac5df0511b26708d46251cbf</td>\n",
       "      <td>US</td>\n",
       "      <td>WI</td>\n",
       "      <td>120</td>\n",
       "    </tr>\n",
       "  </tbody>\n",
       "</table>\n",
       "<p>59360 rows × 7 columns</p>\n",
       "</div>"
      ],
      "text/plain": [
       "      AvgTempCtrl     AvgCool     AvgHeat  \\\n",
       "0      712.192402  711.779412  701.779412   \n",
       "1      740.671569  742.738971  742.738971   \n",
       "2      687.865385  691.211538  690.461538   \n",
       "3      675.124138  677.758621  677.613793   \n",
       "4      684.433333  745.166667  695.166667   \n",
       "...           ...         ...         ...   \n",
       "9586   664.720430  665.204301  658.763441   \n",
       "9587   673.000000  740.000000  710.000000   \n",
       "9588   680.867384  683.333333  683.333333   \n",
       "9589   693.846154  707.538462  703.076923   \n",
       "9590   692.266667  750.000000  690.000000   \n",
       "\n",
       "                                    Identifier Country ProvinceState  \\\n",
       "0     a79c42312360f12bf571e48a6dff8c0795a086c1      US            AB   \n",
       "1     d761e9f22aca4be5390b4c28dc5853556549f07b      US            AB   \n",
       "2     0404ace1bcdf88d917bd860a04cd6c66fb51679f      US            AK   \n",
       "3     fda1f67e8423ed49933c45617ee96aef3bae04ba      US            AK   \n",
       "4     b22837a38739d740c6920c5c300e1bed17fcf706      US            AL   \n",
       "...                                        ...     ...           ...   \n",
       "9586  4949e2207e8f59c14d94cb0938fa6195ab0c455a      US            WI   \n",
       "9587  6d578aaea9293ac052c317e1dedd3f6f62dc49a4      US            WI   \n",
       "9588  31fff6bad552eba4c1b4550a33e64174aa430ff4      US            WI   \n",
       "9589  75910578db7bd09526fdb3c6b2faf03d04402f83      US            WI   \n",
       "9590  0676b436dde8bd5cac5df0511b26708d46251cbf      US            WI   \n",
       "\n",
       "      Age_of_Home__years_  \n",
       "0                       0  \n",
       "1                       0  \n",
       "2                       0  \n",
       "3                       0  \n",
       "4                       0  \n",
       "...                   ...  \n",
       "9586                  120  \n",
       "9587                  120  \n",
       "9588                  120  \n",
       "9589                  120  \n",
       "9590                  120  \n",
       "\n",
       "[59360 rows x 7 columns]"
      ]
     },
     "execution_count": 11,
     "metadata": {},
     "output_type": "execute_result"
    }
   ],
   "source": [
    "# https://stackoverflow.com/questions/63886787/how-to-create-a-dataframe-from-multiple-csv-files\n",
    "# Initialize and empty dataframe\n",
    "all_winter = pd.DataFrame()\n",
    "\n",
    "# Iterate through files and contents, then concatenate the data into the dataframe\n",
    "for file in files:\n",
    "    df = pd.read_csv(\"data/winter/\" + file)\n",
    "    all_winter = pd.concat([all_winter, df])\n",
    "    \n",
    "all_winter"
   ]
  },
  {
   "cell_type": "code",
   "execution_count": 12,
   "metadata": {},
   "outputs": [
    {
     "data": {
      "text/plain": [
       "array(['AB', 'AK', 'AL', 'AR', 'AZ', 'CA', 'CO', 'CT', 'DC', 'DE', 'FL',\n",
       "       'GA', 'HI', 'IA', 'ID', 'IL', 'IN', 'KS', 'KY', 'LA', 'MA', 'MD',\n",
       "       'ME', 'MI', 'MN', 'MO', 'MS', 'MT', 'NC', 'ND', 'NE', 'NH', 'NJ',\n",
       "       'NM', 'NV', 'NY', 'OH', 'OK', 'OR', 'PA', 'PR', 'QC', 'RI', 'SC',\n",
       "       'SD', 'TN', 'TX', 'UT', 'VA', 'VI', 'VT', 'WA', 'WI', 'WV', 'WY',\n",
       "       'ON', 'NB', 'YT', nan], dtype=object)"
      ]
     },
     "execution_count": 12,
     "metadata": {},
     "output_type": "execute_result"
    }
   ],
   "source": [
    "# See all the unique names for states\n",
    "\n",
    "all_winter.ProvinceState.unique()"
   ]
  },
  {
   "cell_type": "code",
   "execution_count": 13,
   "metadata": {},
   "outputs": [],
   "source": [
    "# Remove weird states\n",
    "\n",
    "all_winter = all_winter[all_winter[\"ProvinceState\"] != \"AB\"]\n",
    "all_winter = all_winter[all_winter[\"ProvinceState\"] != \"VI\"]\n",
    "all_winter = all_winter[all_winter[\"ProvinceState\"] != \"ON\"]\n",
    "all_winter = all_winter[all_winter[\"ProvinceState\"] != \"NB\"]\n",
    "all_winter = all_winter[all_winter[\"ProvinceState\"] != \"YT\"]\n",
    "all_winter = all_winter[all_winter[\"ProvinceState\"] != \"QC\"]"
   ]
  },
  {
   "cell_type": "code",
   "execution_count": 14,
   "metadata": {},
   "outputs": [
    {
     "data": {
      "text/plain": [
       "array(['AK', 'AL', 'AR', 'AZ', 'CA', 'CO', 'CT', 'DC', 'DE', 'FL', 'GA',\n",
       "       'HI', 'IA', 'ID', 'IL', 'IN', 'KS', 'KY', 'LA', 'MA', 'MD', 'ME',\n",
       "       'MI', 'MN', 'MO', 'MS', 'MT', 'NC', 'ND', 'NE', 'NH', 'NJ', 'NM',\n",
       "       'NV', 'NY', 'OH', 'OK', 'OR', 'PA', 'PR', 'RI', 'SC', 'SD', 'TN',\n",
       "       'TX', 'UT', 'VA', 'VT', 'WA', 'WI', 'WV', 'WY', nan], dtype=object)"
      ]
     },
     "execution_count": 14,
     "metadata": {},
     "output_type": "execute_result"
    }
   ],
   "source": [
    "# See all the unique names for states\n",
    "\n",
    "all_winter.ProvinceState.unique()"
   ]
  },
  {
   "cell_type": "code",
   "execution_count": 15,
   "metadata": {},
   "outputs": [],
   "source": [
    "# Drop NANs\n",
    "\n",
    "all_winter = all_winter.dropna()"
   ]
  },
  {
   "cell_type": "code",
   "execution_count": 16,
   "metadata": {},
   "outputs": [
    {
     "data": {
      "text/plain": [
       "array(['AK', 'AL', 'AR', 'AZ', 'CA', 'CO', 'CT', 'DC', 'DE', 'FL', 'GA',\n",
       "       'HI', 'IA', 'ID', 'IL', 'IN', 'KS', 'KY', 'LA', 'MA', 'MD', 'ME',\n",
       "       'MI', 'MN', 'MO', 'MS', 'MT', 'NC', 'ND', 'NE', 'NH', 'NJ', 'NM',\n",
       "       'NV', 'NY', 'OH', 'OK', 'OR', 'PA', 'PR', 'RI', 'SC', 'SD', 'TN',\n",
       "       'TX', 'UT', 'VA', 'VT', 'WA', 'WI', 'WV', 'WY'], dtype=object)"
      ]
     },
     "execution_count": 16,
     "metadata": {},
     "output_type": "execute_result"
    }
   ],
   "source": [
    "# See all the unique names for states\n",
    "\n",
    "all_winter.ProvinceState.unique()"
   ]
  },
  {
   "cell_type": "code",
   "execution_count": 17,
   "metadata": {},
   "outputs": [],
   "source": [
    "# Export  file to csv\n",
    "\n",
    "all_winter.to_csv(\"Scraper_Output/all_winter.csv\", header=True, index=False)"
   ]
  },
  {
   "cell_type": "code",
   "execution_count": null,
   "metadata": {},
   "outputs": [],
   "source": []
  }
 ],
 "metadata": {
  "kernelspec": {
   "display_name": "Python 3",
   "language": "python",
   "name": "python3"
  },
  "language_info": {
   "codemirror_mode": {
    "name": "ipython",
    "version": 3
   },
   "file_extension": ".py",
   "mimetype": "text/x-python",
   "name": "python",
   "nbconvert_exporter": "python",
   "pygments_lexer": "ipython3",
   "version": "3.6.10"
  },
  "varInspector": {
   "cols": {
    "lenName": 16,
    "lenType": 16,
    "lenVar": 40
   },
   "kernels_config": {
    "python": {
     "delete_cmd_postfix": "",
     "delete_cmd_prefix": "del ",
     "library": "var_list.py",
     "varRefreshCmd": "print(var_dic_list())"
    },
    "r": {
     "delete_cmd_postfix": ") ",
     "delete_cmd_prefix": "rm(",
     "library": "var_list.r",
     "varRefreshCmd": "cat(var_dic_list()) "
    }
   },
   "types_to_exclude": [
    "module",
    "function",
    "builtin_function_or_method",
    "instance",
    "_Feature"
   ],
   "window_display": false
  }
 },
 "nbformat": 4,
 "nbformat_minor": 2
}
